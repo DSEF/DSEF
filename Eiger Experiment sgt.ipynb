{
 "cells": [
  {
   "cell_type": "markdown",
   "metadata": {
    "collapsed": true
   },
   "source": [
    "# Pre-Experiment\n",
    "Define All Variables to Run the Experiment\n",
    "    <p>```setup.bash``` Exports the Variables to a ```setup.conf``` and sends it to the server</p>"
   ]
  },
  {
   "cell_type": "code",
   "execution_count": null,
   "metadata": {
    "scrolled": true
   },
   "outputs": [],
   "source": [
    "username=sgt43 # Username of user on server\n",
    "exp_name=dsef-janus # Name of Experiment on TestBed\n",
    "proj_name=cops # Name of Project on TestBed\n",
    "default_node=node-0 # Default node to run the experiment from\n",
    "ds=cops2\n",
    "host_ip=users.emulab.net\n",
    "host_servers_ip=emulab.net\n",
    "default_ip=${default_node}.${exp_name}.${proj_name}.${host_servers_ip}\n",
    "proj_path=/home/sgt43/DSEF\n",
    "\n",
    "# Setup Number of Servers and Clients\n",
    "nservers=2 # Number of Servers and Clients\n",
    "ndcs=2 # Number of Data Centers\n",
    "eindex=0\n",
    "ipprefix=\"node-\"\n",
    "ippostfix=\"\"\n",
    "threads=1\n",
    "replication_factor=$ndcs\n",
    "\n",
    "# Initialize Consistent Variables\n",
    "trial=1 # Number of Trials in the Experiment\n",
    "nkeys=10000 # Number of keys for the Experiment\n",
    "run_time=10 # Time to run the Expierment\n",
    "trim=1 # Trimmed time from the gathered results\n",
    "\n",
    "# Initialize Default Variables\n",
    "value_size=128 # Size of the Value Read and/or Written\n",
    "cols_per_key_read=5 # Columns per key read\n",
    "cols_per_key_write=5 # Columns per key write\n",
    "keys_per_read=5 # Keys per read\n",
    "keys_per_write=5 # Keys per write\n",
    "write_frac=\"0.1\" # Fraction of Write Operations to Read Operations\n",
    "write_trans_frac=\"0.5\" # Fraction of Write Transcation to Read Transactions\n",
    "\n",
    "# Specify the Experiment's Indepdent Variable and its Values\n",
    "exp=keys_per_read # Name of the Experiment\n",
    "indep_values=\"1:${nkeys} 2:${nkeys}\" # Independent Variables to be Experimented with\n",
    "\n",
    "insert_cmd=INSERTCL\n",
    "KILLALL_SSH_TIME=90\n",
    "MAX_ATTEMPTS=10\n",
    "\n",
    "alias emulab=\"ssh ${username}@${host_ip} -o StrictHostKeyChecking=no\"\n",
    "alias server=\"ssh ${username}@${host_ip} -o StrictHostKeyChecking=no ssh ${default_ip} -t -t -o StrictHostKeyChecking=no\"\n",
    "\n",
    "source ${proj_path}/setup.bash"
   ]
  },
  {
   "cell_type": "markdown",
   "metadata": {},
   "source": [
    "# Experiment\n",
    "Launch Instances of the Distributed System\n",
    "    \n",
    "Setup Benchmark on Clients\n",
    "    \n",
    "Start the Experiment\n",
    "    \n",
    "Kill all Instances of the Distributed System"
   ]
  },
  {
   "cell_type": "code",
   "execution_count": null,
   "metadata": {
    "scrolled": true
   },
   "outputs": [],
   "source": [
    "# emulab \"/usr/testbed/bin/node_reboot -w -e ${proj_name},${exp_name}\"\n",
    "\n",
    "server <<- 'EOF'\n",
    "\n",
    "source dynamic_common.bash\n",
    "\n",
    "nserverstotal=$((ndcs*nservers))\n",
    "\n",
    "init\n",
    "\n",
    "for t in $(seq $trial); do\n",
    "for i in $(seq 0 $((${#var[@]} - 1))); do\n",
    "\n",
    "    kill_all_ds\n",
    "        \n",
    "    setup\n",
    "\n",
    "    launch\n",
    "    \n",
    "    set_server_keyspace\n",
    "    \n",
    "    set_client_keyspace\n",
    "        \n",
    "    for (( j = 1; j<=$((nserverstotal)); j++)); do\n",
    "        ssh -o StrictHostKeyChecking=no ${ipprefix}${j} \"collectl -P -ou -R $((run_time+20))s -f/tmp/${ds}_${t}\" &\n",
    "    done\n",
    "    \n",
    "    run_experiment\n",
    "    \n",
    "    kill_all_ds\n",
    "    \n",
    "    gather_results\n",
    "    \n",
    "    for (( j = 1; j<=$((nserverstotal)); j++)); do\n",
    "        rsync --remove-source-files -az ${ipprefix}${j}:/tmp/${ds}* ${output_dir}\n",
    "    done\n",
    "    \n",
    "done; done; exit; exit;\n",
    "EOF\n",
    "\n",
    "rm -rf ${proj_path}/latest\n",
    "\n",
    "rsync -az --copy-links ${username}@${host_ip}:/users/${username}/${ds}/experiments/dynamic_${exp}/latest ${proj_path}\n",
    "\n",
    "cd ${proj_path}/latest\n",
    "mkdir data\n",
    "for i in $(ls *.gz); do\n",
    "    mv ${i} ./data/\n",
    "    gunzip ./data/${i}\n",
    "done"
   ]
  },
  {
   "cell_type": "markdown",
   "metadata": {},
   "source": [
    "# Data Gathering and Post Processing\n",
    "Gather Data from Servers and Clients\n",
    "    \n",
    "Post Process the Data into Meaningful Chunks\n",
    "    \n",
    "Generate Graphs from the Data Chuncks"
   ]
  },
  {
   "cell_type": "code",
   "execution_count": null,
   "metadata": {
    "scrolled": false
   },
   "outputs": [],
   "source": [
    "output_dir=${proj_path}/latest\n",
    "\n",
    "source ${proj_path}/setup.conf\n",
    "export ds\n",
    "\n",
    "cd ${proj_path}/postprocess\n",
    "./dynamic_postprocess_full.bash ${output_dir} ${output_dir} ${run_time} ${trim} shuffle"
   ]
  },
  {
   "cell_type": "markdown",
   "metadata": {},
   "source": [
    "# Graphing with GNUPlot"
   ]
  },
  {
   "cell_type": "code",
   "execution_count": null,
   "metadata": {
    "scrolled": false
   },
   "outputs": [],
   "source": [
    "cd ${proj_path}/latest\n",
    "\n",
    "source ${proj_path}/setup.conf\n",
    "export ds\n",
    "\n",
    "gnuplot <<- 'EOF'\n",
    "\n",
    "    ds=system(\"echo ${ds}\")\n",
    "    \n",
    "    set term png\n",
    "\n",
    "    set output \"bytes.png\"\n",
    "    plot ds.\".graph\" using 1:5 with linespoint title 'Bytes'\n",
    "\n",
    "    set output \"cols.png\"\n",
    "    plot ds.\".graph\" using 1:4 with linespoint title 'Cols'\n",
    "\n",
    "    set output \"keys.png\"\n",
    "    plot ds.\".graph\" using 1:3 with linespoint title 'Keys'\n",
    "\n",
    "    set output \"ops.png\"\n",
    "    plot ds.\".graph\" using 1:2 with linespoint title 'Ops'\n",
    "\n",
    "EOF\n",
    "\n",
    "display < bytes.png\n",
    "display < cols.png\n",
    "display < keys.png\n",
    "display < ops.png\n",
    "\n",
    "rm *.png"
   ]
  },
  {
   "cell_type": "code",
   "execution_count": null,
   "metadata": {
    "collapsed": true
   },
   "outputs": [],
   "source": []
  },
  {
   "cell_type": "code",
   "execution_count": null,
   "metadata": {
    "collapsed": true
   },
   "outputs": [],
   "source": []
  }
 ],
 "metadata": {
  "kernelspec": {
   "display_name": "Bash",
   "language": "bash",
   "name": "bash"
  },
  "language_info": {
   "codemirror_mode": "shell",
   "file_extension": ".sh",
   "mimetype": "text/x-sh",
   "name": "bash"
  }
 },
 "nbformat": 4,
 "nbformat_minor": 1
}
