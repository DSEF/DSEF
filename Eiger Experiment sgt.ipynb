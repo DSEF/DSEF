{
 "cells": [
  {
   "cell_type": "markdown",
   "metadata": {
    "collapsed": true
   },
   "source": [
    "# Pre-Experiment\n",
    "Define All Variables to Run the Experiment\n",
    "    <p>```setup.bash``` Exports the Variables to a ```setup.conf``` and sends it to the server</p>"
   ]
  },
  {
   "cell_type": "code",
   "execution_count": 1,
   "metadata": {
    "scrolled": true
   },
   "outputs": [
    {
     "name": "stdout",
     "output_type": "stream",
     "text": [
      "setup.conf\n",
      "            424 100%    0.00kB/s    0:00:00 (xfr#1, to-chk=0/1)\n",
      "dynamic_common.bash\n",
      "          7,280 100%    6.28MB/s    0:00:00 (xfr#1, to-chk=0/1)\n",
      "kodiak_dc_launcher.bash\n",
      "          4,853 100%    3.96MB/s    0:00:00 (xfr#1, to-chk=0/1)\n"
     ]
    }
   ],
   "source": [
    "username=sgt43 # Username of user on server\n",
    "exp_name=dsef-janus # Name of Experiment on TestBed\n",
    "proj_name=cops # Name of Project on TestBed\n",
    "default_node=node-0 # Default node to run the experiment from\n",
    "ds=cops2\n",
    "host_ip=users.emulab.net\n",
    "host_servers_ip=emulab.net\n",
    "default_ip=${default_node}.${exp_name}.${proj_name}.${host_servers_ip}\n",
    "proj_path=/home/sgt43/DSEF\n",
    "\n",
    "# Setup Number of Servers and Clients\n",
    "nservers=2 # Number of Servers and Clients\n",
    "ndcs=2 # Number of Data Centers\n",
    "eindex=0\n",
    "ipprefix=\"node-\"\n",
    "ippostfix=\"\"\n",
    "threads=1\n",
    "replication_factor=$ndcs\n",
    "\n",
    "# Initialize Consistent Variables\n",
    "trial=1 # Number of Trials in the Experiment\n",
    "nkeys=10000 # Number of keys for the Experiment\n",
    "run_time=10 # Time to run the Expierment\n",
    "trim=1 # Trimmed time from the gathered results\n",
    "\n",
    "# Initialize Default Variables\n",
    "value_size=128 # Size of the Value Read and/or Written\n",
    "cols_per_key_read=5 # Columns per key read\n",
    "cols_per_key_write=5 # Columns per key write\n",
    "keys_per_read=5 # Keys per read\n",
    "keys_per_write=5 # Keys per write\n",
    "write_frac=\"0.1\" # Fraction of Write Operations to Read Operations\n",
    "write_trans_frac=\"0.5\" # Fraction of Write Transcation to Read Transactions\n",
    "\n",
    "# Specify the Experiment's Indepdent Variable and its Values\n",
    "exp=keys_per_read # Name of the Experiment\n",
    "indep_values=\"1:${nkeys}\" # Independent Variables to be Experimented with\n",
    "\n",
    "insert_cmd=INSERTCL\n",
    "KILLALL_SSH_TIME=90\n",
    "MAX_ATTEMPTS=10\n",
    "\n",
    "alias emulab=\"ssh ${username}@${host_ip} -o StrictHostKeyChecking=no\"\n",
    "alias server=\"ssh ${username}@${host_ip} -o StrictHostKeyChecking=no ssh ${default_ip} -t -t -o StrictHostKeyChecking=no\"\n",
    "\n",
    "source ${proj_path}/setup.bash"
   ]
  },
  {
   "cell_type": "markdown",
   "metadata": {},
   "source": [
    "# Experiment\n",
    "Launch Instances of the Distributed System\n",
    "    \n",
    "Setup Benchmark on Clients\n",
    "    \n",
    "Start the Experiment\n",
    "    \n",
    "Kill all Instances of the Distributed System"
   ]
  },
  {
   "cell_type": "code",
   "execution_count": 2,
   "metadata": {
    "scrolled": true
   },
   "outputs": [
    {
     "name": "stdout",
     "output_type": "stream",
     "text": [
      "\n",
      "source dynamic_common.bash\n",
      "\n",
      "nserverstotal=$((ndcs*nservers))\n",
      "\n",
      "init\n",
      "\n",
      "for t in $(seq $trial); do\n",
      "for i in $(seq 0 $((${#var[@]} - 1))); do\n",
      "\n",
      "    kill_all_ds\n",
      "        \n",
      "    setup\n",
      "\n",
      "    launch\n",
      "    \n",
      "    set_server_keyspace\n",
      "    \n",
      "    set_client_keyspace\n",
      "        \n",
      "    for (( j = 1; j<=$((nserverstotal)); j++)); do\n",
      "        ssh -o StrictHostKeyChecking=no ${ipprefix}${j} \"collectl -P -ou -R $((run_time+20))s -f/tmp/${ds}_${t}\" &\n",
      "    done\n",
      "    \n",
      "    run_experiment\n",
      "    \n",
      "    kill_all_ds\n",
      "    \n",
      "    gather_results\n",
      "    \n",
      "    for (( j = 1; j<=$((nserverstotal)); j++)); do\n",
      "        rsync --remove-source-files -az ${ipprefix}${j}:/tmp/${ds}* ${output_dir}\n",
      "    done\n",
      "    \n",
      "done; done; exit; exit;\n",
      "Welcome to Ubuntu 16.04.1 LTS (GNU/Linux 4.4.0-45-generic x86_64)\n",
      "\n",
      " * Documentation:  https://help.ubuntu.com\n",
      " * Management:     https://landscape.canonical.com\n",
      " * Support:        https://ubuntu.com/advantage\n",
      "Last login: Thu Jun  1 13:35:23 2017 from 155.98.33.74\n",
      "sgt43@node-0:~$ \n",
      "sgt43@node-0:~$ source dynamic_common.bash\n",
      "sgt43@node-0:~$ \n",
      "sgt43@node-0:~$ nserverstotal=$((ndcs*nservers))\n",
      "sgt43@node-0:~$ \n",
      "sgt43@node-0:~$ init\n",
      "sgt43@node-0:~$ \n",
      "sgt43@node-0:~$ for t in $(seq $trial); do\n",
      "> for i in $(seq 0 $((${#var[@]} - 1))); do\n",
      "> \n",
      ">     kill_all_ds\n",
      ">         \n",
      ">     setup\n",
      "> \n",
      ">     launch\n",
      ">     \n",
      ">     set_server_keyspace\n",
      ">     \n",
      ">     set_client_keyspace\n",
      ">         \n",
      ">     for (( j = 1; j<=$((nserverstotal)); j++)); do\n",
      "<${j} \"collectl -P -ou -R $((run_time+20))s -f/tmp/$                        {ds}_${t}\" &20))s -f/tmp/\n",
      ">     done\n",
      ">     \n",
      ">     run_experiment\n",
      ">     \n",
      ">     kill_all_ds\n",
      ">     \n",
      ">     gather_results\n",
      ">     \n",
      ">     for (( j = 1; j<=$((nserverstotal)); j++)); do\n",
      "<urce-files -az ${ipprefix}${j}:/tmp/${ds}* ${output                        _dir}\n",
      ">     done\n",
      ">     \n",
      "> done; done; exit; exit;\n",
      "Connection to node-1 closed.\n",
      "Connection to node-2 closed.\n",
      "seeds=node-1, node-2\n",
      "node-1\n",
      "node-2\n",
      "node-1\n",
      "ssh -t -t -o StrictHostKeyChecking=no $ip \"cops2/kill_all_cassandra.bash\"\n",
      "Connection to node-2 closed.\n",
      "node-2\n",
      "ssh -t -t -o StrictHostKeyChecking=no $ip \"cops2/kill_all_cassandra.bash\"\n",
      "Connection to node-1 closed.\n",
      "node-1: Connection to node-1 closed.\n",
      "node-2: Connection to node-2 closed.\n",
      "0 @ node-1\n",
      "1 @ node-2\n",
      "node-2 is LAUNCHING!!!\n",
      "node-2: LAUNCHING SUCCESSFULLY!!!\n",
      "node-1 is LAUNCHING!!!\n",
      "node-1: LAUNCHING SUCCESSFULLY!!!\n",
      "Nodes up and normal: \n",
      "Number of normal nodes:  2\n",
      "[1] 6872\n",
      "Created keyspaces. Sleeping 5s for propagation.\n",
      "[1]+  Terminated              ( sleep 60; killall stress )\n",
      "[1] 6896\n",
      "Unable to create stress keyspace: Keyspace names must be case-insensitively unique (\"Keyspace1\" conflicts with \"Keyspace1\")\n",
      "[1]+  Terminated              ( sleep 60; killall stress )\n",
      "[1] 6920\n",
      "Unable to create stress keyspace: Keyspace names must be case-insensitively unique (\"Keyspace1\" conflicts with \"Keyspace1\")\n",
      "[1]+  Terminated              ( sleep 60; killall stress )\n",
      "[1] 6944\n",
      "Connection to node-3 closed.\n",
      "[2] 6957\n",
      "pop_pids:  6957\n",
      "node-3: /users/sgt43/cops2/kill_stress_kodiak.bash: line 6: kill: (8029) - No such process\n",
      "Connection to node-4 closed.\n",
      "[3] 6969\n",
      "pop_pids:  6957 6969\n",
      "Waiting on 6957\n",
      "node-4: /users/sgt43/cops2/kill_stress_kodiak.bash: line 6: kill: (8142) - No such process\n",
      "node-3: Unable to create stress keyspace: Keyspace names must be case-insensitively unique (\"Keyspace1\" conflicts with \"Keyspace1\")\n",
      "node-4: Unable to create stress keyspace: Keyspace names must be case-insensitively unique (\"Keyspace1\" conflicts with \"Keyspace1\")\n",
      "node-3: No Latencies percentiles to print\n",
      "[2]-  Done                    ssh $client -o StrictHostKeyChecking=no \"$stress_killer; \t\t     cd ${src_dir}/tools/stress; bin/stress --nodes=$first_dc_servers_csv \t\t     --columns=$cols_per_key_read --column-size=$value_size --operation=${insert_cmd} \t\t     --consistency-level=LOCAL_QUORUM --replication-strategy=NetworkTopologyStrategy \t\t     --strategy-properties=$strategy_properties --num-different-keys=$keys_per_client_first\t\t     --num-keys=$keys_per_client_first --stress-index=$index \t\t     --stress-count=$num_nodes_per_dc \t\t     --file=${src_dir}/stress.out \t\t      > >(tee /local/${dynamic_dir}/${exp_uid}/populate${t}.out) \t\t     2> >(tee /local/${dynamic_dir}/${exp_uid}/populate${t}.err)\" 2>&1 | awk '{ print \"'$client': \"$0 }'\n",
      "Waiting on 6969\n",
      "node-4: No Latencies percentiles to print\n",
      "[3]+  Done                    ssh $client -o StrictHostKeyChecking=no \"$stress_killer; \t\t     cd ${src_dir}/tools/stress; bin/stress --nodes=$first_dc_servers_csv \t\t     --columns=$cols_per_key_read --column-size=$value_size --operation=${insert_cmd} \t\t     --consistency-level=LOCAL_QUORUM --replication-strategy=NetworkTopologyStrategy \t\t     --strategy-properties=$strategy_properties --num-different-keys=$keys_per_client_first\t\t     --num-keys=$keys_per_client_first --stress-index=$index \t\t     --stress-count=$num_nodes_per_dc \t\t     --file=${src_dir}/stress.out \t\t      > >(tee /local/${dynamic_dir}/${exp_uid}/populate${t}.out) \t\t     2> >(tee /local/${dynamic_dir}/${exp_uid}/populate${t}.err)\" 2>&1 | awk '{ print \"'$client': \"$0 }'\n",
      "KILLEDKILLALL\n",
      "[2] 6973\n",
      "[3] 6974\n",
      "[4] 6975\n",
      "[5] 6976\n",
      "Connection to node-3 closed.\n",
      "[1]   Killed                  ( sleep $KILLALL_SSH_TIME; killall ssh )\n",
      "[6] 6988\n",
      "Connection to node-4 closed.\n",
      "[7] 7000\n",
      "node-3: total,interval_op_rate,interval_key_rate,avg_latency,elapsed_time\n",
      "node-4: total,interval_op_rate,interval_key_rate,avg_latency,elapsed_time\n",
      "node-3: 0,0,0,0,0,NaN,1\n",
      "node-4: 0,0,0,0,0,NaN,1\n",
      "node-3: 14,14,18,90,11520,0.06964285714285715,2\n",
      "node-4: 54,54,78,390,49920,0.017296296296296296,2\n",
      "node-3: 44,30,50,250,32000,0.037333333333333336,3\n",
      "node-4: 177,123,167,835,106280,0.00824390243902439,3\n",
      "node-3: 91,47,59,295,37760,0.021872340425531916,4\n",
      "node-4: 357,180,236,1180,150440,0.005277777777777778,4\n",
      "node-3: 143,52,80,400,51200,0.020673076923076922,5\n",
      "node-4: 591,234,358,1790,229120,0.0038461538461538464,5\n",
      "node-3: 181,38,58,290,36520,0.027789473684210527,6\n",
      "node-4: 850,259,359,1795,227360,0.0032277992277992278,6\n",
      "node-3: 227,46,70,350,44800,0.023130434782608695,7\n",
      "node-4: 1097,247,339,1695,213360,0.00351417004048583,7\n",
      "node-3: 268,41,53,265,32720,0.025536585365853657,8\n",
      "node-4: 1299,202,290,1450,183200,0.004594059405940594,8\n",
      "node-3: 320,52,60,300,35400,0.020884615384615383,9\n",
      "node-4: 1550,251,367,1835,231880,0.0035816733067729084,9\n",
      "node-3: 365,45,57,285,32280,0.02371111111111111,11\n",
      "node-4: 1801,251,343,1715,217720,0.0036454183266932273,11\n",
      "node-3: 418,53,69,345,42360,0.01979245283018868,12\n",
      "node-4: 2043,242,338,1690,212720,0.0038388429752066115,12\n",
      "node-3: 470,52,84,420,50160,0.020153846153846154,13\n",
      "node-4: 2298,255,363,1815,226320,0.0035372549019607844,13\n",
      "node-3: 520,50,62,310,35480,0.02124,14\n",
      "node-4: 2600,302,430,2150,270400,0.002900662251655629,14\n",
      "node-3: 558,38,50,250,27200,0.028052631578947367,15\n",
      "node-4: 2942,342,466,2330,292240,0.0024912280701754387,15\n",
      "node-3: 607,49,65,325,36200,0.021653061224489796,16\n",
      "node-4: 3327,385,541,2705,338440,0.0020883116883116883,16\n",
      "node-3: 646,39,59,295,34160,0.027025641025641027,17\n",
      "node-4: 3720,393,525,2625,327000,0.0021272264631043256,17\n",
      "node-3: 697,51,87,435,51480,0.02092156862745098,18\n",
      "node-4: 4083,363,495,2475,310800,0.0023774104683195593,18\n",
      "node-3: /users/sgt43/cops2/kill_stress_kodiak.bash: line 6: kill: (8307) - No such process\n",
      "node-4: /users/sgt43/cops2/kill_stress_kodiak.bash: line 6: kill: (8422) - No such process\n",
      "[2]   Done                    ssh -o StrictHostKeyChecking=no ${ipprefix}${j} \"collectl -P -ou -R $((run_time+20))s -f/tmp/${ds}_${t}\"\n",
      "[3]   Done                    ssh -o StrictHostKeyChecking=no ${ipprefix}${j} \"collectl -P -ou -R $((run_time+20))s -f/tmp/${ds}_${t}\"\n",
      "[4]   Done                    ssh -o StrictHostKeyChecking=no ${ipprefix}${j} \"collectl -P -ou -R $((run_time+20))s -f/tmp/${ds}_${t}\"\n",
      "[5]   Done                    ssh -o StrictHostKeyChecking=no ${ipprefix}${j} \"collectl -P -ou -R $((run_time+20))s -f/tmp/${ds}_${t}\"\n",
      "[6]-  Done                    ssh $client -o StrictHostKeyChecking=no \"cd ${src_dir}/tools/stress; \t    \t((bin/stress --progress-interval=1 --nodes=$local_servers_csv --operation=DYNAMIC \t    \t--consistency-level=LOCAL_QUORUM --replication-strategy=NetworkTopologyStrategy \t    \t--strategy-properties=$strategy_properties --num-different-keys=$keys --stress-index=$index \t    \t--stress-count=$num_nodes_per_dc --num-keys=20000000 --column-size=$value_size \t    \t--columns-per-key-read=$cols_per_key_read --columns-per-key-write=$cols_per_key_write \t    \t--keys-per-read=$keys_per_read --keys-per-write=$keys_per_write --write-fraction=$write_frac \t    \t--write-transaction-fraction=$write_trans_frac --threads=$threads \t    \t > >(tee ${cli_output_dir}/${data_file_name}) \t    \t2> ${cli_output_dir}/${data_file_name}.stderr) &); \t    \tsleep $((run_time+10)); ${src_dir}/kill_stress_kodiak.bash\" 2>&1 | awk '{ print \"'$client': \"$0 }'\n"
     ]
    },
    {
     "name": "stdout",
     "output_type": "stream",
     "text": [
      "[7]+  Done                    ssh $client -o StrictHostKeyChecking=no \"cd ${src_dir}/tools/stress; \t    \t((bin/stress --progress-interval=1 --nodes=$local_servers_csv --operation=DYNAMIC \t    \t--consistency-level=LOCAL_QUORUM --replication-strategy=NetworkTopologyStrategy \t    \t--strategy-properties=$strategy_properties --num-different-keys=$keys --stress-index=$index \t    \t--stress-count=$num_nodes_per_dc --num-keys=20000000 --column-size=$value_size \t    \t--columns-per-key-read=$cols_per_key_read --columns-per-key-write=$cols_per_key_write \t    \t--keys-per-read=$keys_per_read --keys-per-write=$keys_per_write --write-fraction=$write_frac \t    \t--write-transaction-fraction=$write_trans_frac --threads=$threads \t    \t > >(tee ${cli_output_dir}/${data_file_name}) \t    \t2> ${cli_output_dir}/${data_file_name}.stderr) &); \t    \tsleep $((run_time+10)); ${src_dir}/kill_stress_kodiak.bash\" 2>&1 | awk '{ print \"'$client': \"$0 }'\n",
      "Connection to node-1 closed.\n",
      "Connection to node-2 closed.\n",
      "logout\n",
      "Connection to node-0.dsef-janus.cops.emulab.net closed.\n"
     ]
    }
   ],
   "source": [
    "# emulab \"/usr/testbed/bin/node_reboot -w -e ${proj_name},${exp_name}\"\n",
    "\n",
    "server <<- 'EOF'\n",
    "\n",
    "source dynamic_common.bash\n",
    "\n",
    "nserverstotal=$((ndcs*nservers))\n",
    "\n",
    "init\n",
    "\n",
    "for t in $(seq $trial); do\n",
    "for i in $(seq 0 $((${#var[@]} - 1))); do\n",
    "\n",
    "    kill_all_ds\n",
    "        \n",
    "    setup\n",
    "\n",
    "    launch\n",
    "    \n",
    "    set_server_keyspace\n",
    "    \n",
    "    set_client_keyspace\n",
    "        \n",
    "    for (( j = 1; j<=$((nserverstotal)); j++)); do\n",
    "        ssh -o StrictHostKeyChecking=no ${ipprefix}${j} \"collectl -P -ou -R $((run_time+20))s -f/tmp/${ds}_${t}\" &\n",
    "    done\n",
    "    \n",
    "    run_experiment\n",
    "    \n",
    "    kill_all_ds\n",
    "    \n",
    "    gather_results\n",
    "    \n",
    "    for (( j = 1; j<=$((nserverstotal)); j++)); do\n",
    "        rsync --remove-source-files -az ${ipprefix}${j}:/tmp/${ds}* ${output_dir}\n",
    "    done\n",
    "    \n",
    "done; done; exit; exit;\n",
    "EOF\n",
    "\n",
    "# get latest data from server and rearrange it to a timestamped format\n",
    "\n",
    "rm -rf ${proj_path}/runs/latest # delete old link\n",
    "\n",
    "rsync -az --copy-links ${username}@${host_ip}:/users/${username}/${ds}/experiments/dynamic_${exp}/latest ${proj_path}/runs\n",
    "\n",
    "cd ${proj_path}/runs\n",
    "timestamp=$(date +%s)\n",
    "mv latest ${timestamp}\n",
    "ln -s ${timestamp} latest\n",
    "\n",
    "cd latest\n",
    "mkdir data\n",
    "for i in $(ls *.gz); do\n",
    "    mv ${i} ./data/\n",
    "    gunzip ./data/${i}\n",
    "done"
   ]
  },
  {
   "cell_type": "markdown",
   "metadata": {},
   "source": [
    "# Data Gathering and Post Processing\n",
    "Gather Data from Servers and Clients\n",
    "    \n",
    "Post Process the Data into Meaningful Chunks\n",
    "    \n",
    "Generate Graphs from the Data Chuncks"
   ]
  },
  {
   "cell_type": "code",
   "execution_count": 7,
   "metadata": {
    "scrolled": false
   },
   "outputs": [
    {
     "name": "stdout",
     "output_type": "stream",
     "text": [
      "client0\n",
      "  cops2/\n",
      "    trial1/\n",
      "done shuffling\n",
      "  Client Postprocess: complete     \n",
      "  Combining Clients: complete      1_5_0.1_0.5_10+1+tput      \n",
      "/home/sgt43/DSEF/runs/latest/cops2.graph\n",
      "1\t218\t307\t1536\t194920\n",
      "Removing old trials\n"
     ]
    }
   ],
   "source": [
    "output_dir=${proj_path}/runs/latest\n",
    "\n",
    "source ${proj_path}/setup.conf\n",
    "export ds # needed in postprocessing scripts\n",
    "\n",
    "cd ${proj_path}/postprocess\n",
    "./dynamic_postprocess_full.bash ${output_dir} ${output_dir} ${run_time} ${trim} shuffle\n",
    "\n",
    "# remove trials\n",
    "echo \"Removing old trials\"\n",
    "rm -rf ${output_dir}/trial*"
   ]
  },
  {
   "cell_type": "markdown",
   "metadata": {},
   "source": [
    "# Graphing with GNUPlot"
   ]
  },
  {
   "cell_type": "code",
   "execution_count": 8,
   "metadata": {
    "scrolled": false
   },
   "outputs": [
    {
     "name": "stdout",
     "output_type": "stream",
     "text": [
      "Warning: empty x range [1:1], adjusting to [0.99:1.01]\n",
      "Warning: empty y range [194920:194920], adjusting to [192971:196869]\n",
      "Warning: empty x range [1:1], adjusting to [0.99:1.01]\n",
      "Warning: empty y range [1536:1536], adjusting to [1520.64:1551.36]\n",
      "Warning: empty x range [1:1], adjusting to [0.99:1.01]\n",
      "Warning: empty y range [307:307], adjusting to [303.93:310.07]\n",
      "Warning: empty x range [1:1], adjusting to [0.99:1.01]\n",
      "Warning: empty y range [218:218], adjusting to [215.82:220.18]\n"
     ]
    },
    {
     "data": {
      "image/png": "[encoded data removed]"
     },
     "metadata": {},
     "output_type": "display_data"
    },
    {
     "name": "stdout",
     "output_type": "stream",
     "text": []
    },
    {
     "data": {
      "image/png": "[encoded data removed]"
     },
     "metadata": {},
     "output_type": "display_data"
    },
    {
     "name": "stdout",
     "output_type": "stream",
     "text": []
    },
    {
     "data": {
      "image/png": "[encoded data removed]"
     },
     "metadata": {},
     "output_type": "display_data"
    },
    {
     "name": "stdout",
     "output_type": "stream",
     "text": []
    },
    {
     "data": {
      "image/png": "[encoded data removed]"
     },
     "metadata": {},
     "output_type": "display_data"
    }
   ],
   "source": [
    "cd ${proj_path}/runs/latest\n",
    "\n",
    "source ${proj_path}/setup.conf\n",
    "export ds\n",
    "\n",
    "gnuplot <<- 'EOF'\n",
    "\n",
    "    ds=system(\"echo ${ds}\")\n",
    "    \n",
    "    set term png\n",
    "\n",
    "    set output \"bytes.png\"\n",
    "    plot ds.\".graph\" using 1:5 with linespoint title 'Bytes'\n",
    "\n",
    "    set output \"cols.png\"\n",
    "    plot ds.\".graph\" using 1:4 with linespoint title 'Cols'\n",
    "\n",
    "    set output \"keys.png\"\n",
    "    plot ds.\".graph\" using 1:3 with linespoint title 'Keys'\n",
    "\n",
    "    set output \"ops.png\"\n",
    "    plot ds.\".graph\" using 1:2 with linespoint title 'Ops'\n",
    "\n",
    "EOF\n",
    "\n",
    "display < bytes.png\n",
    "display < cols.png\n",
    "display < keys.png\n",
    "display < ops.png\n",
    "\n",
    "rm *.png"
   ]
  },
  {
   "cell_type": "code",
   "execution_count": null,
   "metadata": {
    "collapsed": true
   },
   "outputs": [],
   "source": []
  },
  {
   "cell_type": "code",
   "execution_count": null,
   "metadata": {
    "collapsed": true
   },
   "outputs": [],
   "source": []
  }
 ],
 "metadata": {
  "kernelspec": {
   "display_name": "Bash",
   "language": "bash",
   "name": "bash"
  },
  "language_info": {
   "codemirror_mode": "shell",
   "file_extension": ".sh",
   "mimetype": "text/x-sh",
   "name": "bash"
  }
 },
 "nbformat": 4,
 "nbformat_minor": 1
}
